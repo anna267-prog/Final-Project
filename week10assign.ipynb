{
 "cells": [
  {
   "cell_type": "markdown",
   "metadata": {},
   "source": [
    "# Week 10 Assignment - History Helper"
   ]
  },
  {
   "cell_type": "markdown",
   "metadata": {},
   "source": [
    "# Introduction"
   ]
  },
  {
   "cell_type": "markdown",
   "metadata": {},
   "source": [
    "Our project, for now titled History Helper, hopes to provide visitors to Philadelphia's historical sites with supplementary information that is not available at the sites themselves. This information will hopefully include  primary and secondary text sources such as newspaper articles, biographies, and pamphlets. Additionally, this project will collect simple demographic data about its users for the City of Philadelphia and the Philadelphia Historical Commission to keep track of its audience. "
   ]
  },
  {
   "cell_type": "code",
   "execution_count": 1,
   "metadata": {},
   "outputs": [
    {
     "name": "stdout",
     "output_type": "stream",
     "text": [
      "Hello! Welcome to History Helper!\n",
      "Please enter some information about yourself, which site you are exploring,\n",
      "and which documentation you would like to see!\n"
     ]
    }
   ],
   "source": [
    "print('Hello! Welcome to History Helper!')\n",
    "print('Please enter some information about yourself, which site you are exploring,\\nand which documentation you would like to see!')"
   ]
  },
  {
   "cell_type": "markdown",
   "metadata": {},
   "source": [
    "## Demographic Information"
   ]
  },
  {
   "cell_type": "code",
   "execution_count": 2,
   "metadata": {},
   "outputs": [],
   "source": [
    "name = input('What is your name?')\n",
    "age = input('How old are you?')\n",
    "while True:\n",
    "    philly_visitordem = input('Have you visited Philadelphia before? (Yes or No)')\n",
    "    casecheck = philly_visitordem.capitalize()\n",
    "    if casecheck == 'No':\n",
    "        break\n",
    "    elif casecheck == 'Yes':\n",
    "        site_dem = input ('Have you visited this site before? (Yes or No)')\n",
    "        break\n",
    "    else:\n",
    "        print('Sorry cannot understand! Please answer \"Yes\" or \"No\" as typed :)')"
   ]
  },
  {
   "cell_type": "markdown",
   "metadata": {},
   "source": [
    "# History Archival Data"
   ]
  },
  {
   "cell_type": "code",
   "execution_count": 3,
   "metadata": {},
   "outputs": [],
   "source": [
    "site = input('Which historical site are you visiting?') #request location \n",
    "#streamlit - dropdown menu \n",
    "#add section - if location is not listed in csv, print 'Sorry, we do not recognize that site!' "
   ]
  },
  {
   "cell_type": "code",
   "execution_count": 8,
   "metadata": {},
   "outputs": [
    {
     "data": {
      "text/plain": [
       "Address                126 Elfreth's Alley, Philadelphia, PA 19106\n",
       "Key.Figures      Jeremiah Elfreth, John Gilbert, Arthur Wells, ...\n",
       "Document.Type                                           Newspaper \n",
       "Source                                    Gloucester County Times \n",
       "Date                                           2002-07-31 00:00:00\n",
       "Information      On the weekend of 07/31/02, Elfreth's Alley op...\n",
       "Name: Elfreth's Alley, dtype: object"
      ]
     },
     "execution_count": 8,
     "metadata": {},
     "output_type": "execute_result"
    }
   ],
   "source": [
    "import pandas as pd\n",
    "df_excel = pd.read_excel('/Users/annalev/Desktop/pf/week10/data_archival_history-programming.xlsx', index_col = 'Location.Name')\n",
    "df_excel.loc[site]"
   ]
  },
  {
   "cell_type": "markdown",
   "metadata": {},
   "source": [
    "# Location Recommendation - Geocoding API  "
   ]
  },
  {
   "cell_type": "code",
   "execution_count": 10,
   "metadata": {},
   "outputs": [
    {
     "name": "stdout",
     "output_type": "stream",
     "text": [
      "Coordinates b'{\"longitude\":-75.1995,\"latitude\":39.9597}'\n"
     ]
    }
   ],
   "source": [
    "#Provide Coordinates of User at Historical Site\n",
    "import requests\n",
    "response = requests.get(\"https://ipgeolocation.abstractapi.com/v1/?api_key=c9de433eaecd422092efb08d014aa7de&ip_address=2607:f470:6:3001:80bb:b3a:6b60:e253&fields=longitude,latitude\")\n",
    "print(f'Coordinates {response.content}')\n",
    "#Does this request work for users? Does it work for multiple users or only one at a time?"
   ]
  },
  {
   "cell_type": "code",
   "execution_count": null,
   "metadata": {},
   "outputs": [],
   "source": [
    "#streamlit dropdown of preferences to provide suggestions of where to go next AND provide address"
   ]
  },
  {
   "cell_type": "code",
   "execution_count": null,
   "metadata": {},
   "outputs": [],
   "source": [
    "#Determine the Longitudinal and Latitudinal Coordinates of Next Desired Location Based on Address (Entered Under History Archival Data)\n",
    "#Having an unexpected issue with SSL Certificate - will attempt to fix \n",
    "from geopy.geocoders import Nominatim\n",
    "from pprint import pprint \n",
    "\n",
    "app = Nominatim(user_agent= \"coordinates\")\n",
    "\n",
    "next_stop = input('Enter Next Desired Location:')\n",
    "location = app.geocode(next_stop).raw\n",
    "\n",
    "pprint(location)"
   ]
  },
  {
   "cell_type": "code",
   "execution_count": null,
   "metadata": {},
   "outputs": [],
   "source": [
    "#From Longitudinal and Latitudal Coordinates of Next Historical Site, Determine Distance Between Current Coordinates and Desired Location Coordinates"
   ]
  }
 ],
 "metadata": {
  "kernelspec": {
   "display_name": "Python 3",
   "language": "python",
   "name": "python3"
  },
  "language_info": {
   "codemirror_mode": {
    "name": "ipython",
    "version": 3
   },
   "file_extension": ".py",
   "mimetype": "text/x-python",
   "name": "python",
   "nbconvert_exporter": "python",
   "pygments_lexer": "ipython3",
   "version": "3.12.6"
  }
 },
 "nbformat": 4,
 "nbformat_minor": 2
}
