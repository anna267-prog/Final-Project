{
 "cells": [
  {
   "cell_type": "markdown",
   "metadata": {},
   "source": [
    "# Week 10 Assignment - History Helper"
   ]
  },
  {
   "cell_type": "markdown",
   "metadata": {},
   "source": [
    "# Introduction"
   ]
  },
  {
   "cell_type": "markdown",
   "metadata": {},
   "source": [
    "Our project, for now titled History Helper, hopes to provide visitors to Philadelphia's historical sites with supplementary information that is not available at the sites themselves. This information will hopefully include  primary and secondary text sources such as newspaper articles, biographies, and pamphlets. Additionally, this project will collect simple demographic data about its users for the City of Philadelphia and the Philadelphia Historical Commission to keep track of its audience. "
   ]
  },
  {
   "cell_type": "code",
   "execution_count": null,
   "metadata": {},
   "outputs": [],
   "source": [
    "print('Hello! Welcome to History Helper!')\n",
    "print('Please enter some information about yourself, which site you are exploring,\\nand which documentation you would like to see!')"
   ]
  },
  {
   "cell_type": "markdown",
   "metadata": {},
   "source": [
    "## Demographic Information"
   ]
  },
  {
   "cell_type": "code",
   "execution_count": null,
   "metadata": {},
   "outputs": [],
   "source": [
    "name = input('What is your name?')\n",
    "age = input('How old are you?')\n",
    "while True:\n",
    "    philly_visitordem = input('Have you visited Philadelphia before? (Yes or No)')\n",
    "    casecheck = philly_visitordem.capitalize()\n",
    "    if casecheck == 'No':\n",
    "        break\n",
    "    elif casecheck == 'Yes':\n",
    "        site_dem = input ('Have you visited this site before? (Yes or No)')\n",
    "        break\n",
    "    else:\n",
    "        print('Sorry cannot understand! Please answer \"Yes\" or \"No\" as typed :)')"
   ]
  },
  {
   "cell_type": "markdown",
   "metadata": {},
   "source": [
    "# History Archival Data"
   ]
  },
  {
   "cell_type": "code",
   "execution_count": 1,
   "metadata": {},
   "outputs": [],
   "source": [
    "location = input('Which historical site are you visiting?') #request location "
   ]
  },
  {
   "cell_type": "code",
   "execution_count": 2,
   "metadata": {},
   "outputs": [
    {
     "data": {
      "text/plain": [
       "Address                126 Elfreth's Alley, Philadelphia, PA 19106\n",
       "Key.Figures      Jeremiah Elfreth, John Gilbert, Arthur Wells, ...\n",
       "Document.Type                                           Newspaper \n",
       "Source                                    Gloucester County Times \n",
       "Date                                           2002-07-31 00:00:00\n",
       "Information      On the weekend of 07/31/02, Elfreth's Alley op...\n",
       "Name: Elfreth's Alley, dtype: object"
      ]
     },
     "execution_count": 2,
     "metadata": {},
     "output_type": "execute_result"
    }
   ],
   "source": [
    "import pandas as pd\n",
    "df_excel = pd.read_excel('/Users/annalev/Desktop/pf/week10/data_archival_history-programming.xlsx', index_col = 'Location.Name')\n",
    "df_excel.loc[location]"
   ]
  }
 ],
 "metadata": {
  "kernelspec": {
   "display_name": "Python 3",
   "language": "python",
   "name": "python3"
  },
  "language_info": {
   "codemirror_mode": {
    "name": "ipython",
    "version": 3
   },
   "file_extension": ".py",
   "mimetype": "text/x-python",
   "name": "python",
   "nbconvert_exporter": "python",
   "pygments_lexer": "ipython3",
   "version": "3.12.6"
  }
 },
 "nbformat": 4,
 "nbformat_minor": 2
}
